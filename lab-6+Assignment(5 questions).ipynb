{
 "cells": [
  {
   "cell_type": "code",
   "execution_count": 1,
   "metadata": {
    "collapsed": true
   },
   "outputs": [
    {
     "ename": "ModuleNotFoundError",
     "evalue": "No module named 'numpy'",
     "output_type": "error",
     "traceback": [
      "\u001b[1;31m---------------------------------------------------------------------------\u001b[0m",
      "\u001b[1;31mModuleNotFoundError\u001b[0m                       Traceback (most recent call last)",
      "\u001b[1;32mc:\\Users\\win11\\Desktop\\python\\lab-6+Assignment(5 questions).ipynb Cell 1\u001b[0m line \u001b[0;36m1\n\u001b[1;32m----> <a href='vscode-notebook-cell:/c%3A/Users/win11/Desktop/python/lab-6%2BAssignment%285%20questions%29.ipynb#W0sZmlsZQ%3D%3D?line=0'>1</a>\u001b[0m \u001b[39mimport\u001b[39;00m \u001b[39mnumpy\u001b[39;00m \u001b[39mas\u001b[39;00m \u001b[39mnp\u001b[39;00m\n",
      "\u001b[1;31mModuleNotFoundError\u001b[0m: No module named 'numpy'"
     ]
    }
   ],
   "source": [
    "import numpy as np"
   ]
  },
  {
   "cell_type": "code",
   "execution_count": 2,
   "metadata": {
    "collapsed": true
   },
   "outputs": [],
   "source": [
    "A = range(0,1000000)\n",
    "B = range(0,1000000)\n",
    "C = [0]*1000000"
   ]
  },
  {
   "cell_type": "code",
   "execution_count": 3,
   "metadata": {},
   "outputs": [
    {
     "name": "stdout",
     "output_type": "stream",
     "text": [
      "1 loop, best of 3: 273 ms per loop\n"
     ]
    }
   ],
   "source": [
    "%%timeit\n",
    "for i in range(0,1000000):\n",
    "    C[i] = A[i]+B[i]"
   ]
  },
  {
   "cell_type": "code",
   "execution_count": 6,
   "metadata": {},
   "outputs": [
    {
     "name": "stdout",
     "output_type": "stream",
     "text": [
      "1 loop, best of 3: 219 ms per loop\n"
     ]
    }
   ],
   "source": [
    "%%timeit\n",
    "C = np.array(A)+np.array(B)"
   ]
  },
  {
   "cell_type": "markdown",
   "metadata": {},
   "source": [
    "### Starting with numpy arrays"
   ]
  },
  {
   "cell_type": "code",
   "execution_count": 7,
   "metadata": {},
   "outputs": [
    {
     "data": {
      "text/plain": [
       "array([[1, 2],\n",
       "       [3, 4]])"
      ]
     },
     "execution_count": 7,
     "metadata": {},
     "output_type": "execute_result"
    }
   ],
   "source": [
    "arr = np.array([[1,2],[3,4]])\n",
    "arr"
   ]
  },
  {
   "cell_type": "code",
   "execution_count": 9,
   "metadata": {},
   "outputs": [
    {
     "data": {
      "text/plain": [
       "(numpy.ndarray, (2, 2), 2, dtype('int32'), 4, 16)"
      ]
     },
     "execution_count": 9,
     "metadata": {},
     "output_type": "execute_result"
    }
   ],
   "source": [
    "type(arr), arr.shape, arr.ndim, arr.dtype,arr.size, arr.nbytes"
   ]
  },
  {
   "cell_type": "code",
   "execution_count": 11,
   "metadata": {},
   "outputs": [
    {
     "data": {
      "text/plain": [
       "array([ 0,  4,  8, 12, 16])"
      ]
     },
     "execution_count": 11,
     "metadata": {},
     "output_type": "execute_result"
    }
   ],
   "source": [
    "arr = np.arange(0,20,4)\n",
    "arr"
   ]
  },
  {
   "cell_type": "code",
   "execution_count": 13,
   "metadata": {},
   "outputs": [
    {
     "data": {
      "text/plain": [
       "array([  0,  -4,  -8, -12, -16])"
      ]
     },
     "execution_count": 13,
     "metadata": {},
     "output_type": "execute_result"
    }
   ],
   "source": [
    "arr = np.arange(0,-20,-4)\n",
    "arr"
   ]
  },
  {
   "cell_type": "code",
   "execution_count": 15,
   "metadata": {},
   "outputs": [
    {
     "data": {
      "text/plain": [
       "array([[  0.,   3.,   6.,   9.],\n",
       "       [  4.,   7.,  10.,  13.]])"
      ]
     },
     "execution_count": 15,
     "metadata": {},
     "output_type": "execute_result"
    }
   ],
   "source": [
    "arr = np.fromfunction(lambda x,y: 4*x+3*y,(2,4))\n",
    "arr"
   ]
  },
  {
   "cell_type": "code",
   "execution_count": 16,
   "metadata": {},
   "outputs": [
    {
     "data": {
      "text/plain": [
       "array([[23, 38, 74, 82],\n",
       "       [72, 29, 65, 82],\n",
       "       [65, 40, 51, 83],\n",
       "       [65, 31, 17, 73]])"
      ]
     },
     "execution_count": 16,
     "metadata": {},
     "output_type": "execute_result"
    }
   ],
   "source": [
    "arr = np.random.randint(1,100,(4,4))\n",
    "arr"
   ]
  },
  {
   "cell_type": "code",
   "execution_count": 18,
   "metadata": {},
   "outputs": [
    {
     "data": {
      "text/plain": [
       "array([   0.,   25.,   50.,   75.,  100.])"
      ]
     },
     "execution_count": 18,
     "metadata": {},
     "output_type": "execute_result"
    }
   ],
   "source": [
    "arr = np.linspace(0,100,5)\n",
    "arr"
   ]
  },
  {
   "cell_type": "markdown",
   "metadata": {},
   "source": [
    "### Accessing arrays elements"
   ]
  },
  {
   "cell_type": "code",
   "execution_count": 20,
   "metadata": {},
   "outputs": [
    {
     "data": {
      "text/plain": [
       "array([ 0,  2,  4,  6,  8, 10, 12, 14, 16, 18])"
      ]
     },
     "execution_count": 20,
     "metadata": {},
     "output_type": "execute_result"
    }
   ],
   "source": [
    "arr = np.arange(0,20,2)\n",
    "arr"
   ]
  },
  {
   "cell_type": "code",
   "execution_count": 24,
   "metadata": {},
   "outputs": [
    {
     "data": {
      "text/plain": [
       "(array([ 4,  6,  8, 10, 12, 14]), array([18, 16, 14, 12, 10,  8,  6,  4,  2]))"
      ]
     },
     "execution_count": 24,
     "metadata": {},
     "output_type": "execute_result"
    }
   ],
   "source": [
    "arr[2:-2], arr[-1:0:-1]"
   ]
  },
  {
   "cell_type": "code",
   "execution_count": 25,
   "metadata": {},
   "outputs": [
    {
     "data": {
      "text/plain": [
       "array([[84, 83, 19, 41],\n",
       "       [95, 95, 52, 28],\n",
       "       [43,  2, 79, 95],\n",
       "       [22,  5,  7, 42]])"
      ]
     },
     "execution_count": 25,
     "metadata": {},
     "output_type": "execute_result"
    }
   ],
   "source": [
    "arr = np.random.randint(1,100,(4,4))\n",
    "arr"
   ]
  },
  {
   "cell_type": "code",
   "execution_count": 28,
   "metadata": {},
   "outputs": [
    {
     "data": {
      "text/plain": [
       "(95, array([[52, 28],\n",
       "        [79, 95]]), array([19, 52, 79,  7]))"
      ]
     },
     "execution_count": 28,
     "metadata": {},
     "output_type": "execute_result"
    }
   ],
   "source": [
    "arr[2,3], arr[1:3,2:4],arr[:,2]"
   ]
  },
  {
   "cell_type": "code",
   "execution_count": 29,
   "metadata": {},
   "outputs": [
    {
     "data": {
      "text/plain": [
       "array([[[93, 18, 25, 88],\n",
       "        [94, 17, 55, 40],\n",
       "        [23, 20, 78, 38],\n",
       "        [63, 48, 94, 79]],\n",
       "\n",
       "       [[48,  5, 93,  3],\n",
       "        [94, 93, 36, 65],\n",
       "        [ 9, 94, 11, 72],\n",
       "        [42, 31, 53, 94]]])"
      ]
     },
     "execution_count": 29,
     "metadata": {},
     "output_type": "execute_result"
    }
   ],
   "source": [
    "arr = np.random.randint(1,100,(2,4,4))\n",
    "arr"
   ]
  },
  {
   "cell_type": "code",
   "execution_count": 30,
   "metadata": {},
   "outputs": [
    {
     "data": {
      "text/plain": [
       "array([[88, 40, 38, 79],\n",
       "       [ 3, 65, 72, 94]])"
      ]
     },
     "execution_count": 30,
     "metadata": {},
     "output_type": "execute_result"
    }
   ],
   "source": [
    "arr[:,:,3]"
   ]
  },
  {
   "cell_type": "markdown",
   "metadata": {},
   "source": [
    "### Boolean Indexing"
   ]
  },
  {
   "cell_type": "code",
   "execution_count": 32,
   "metadata": {},
   "outputs": [
    {
     "data": {
      "text/plain": [
       "array([ 0,  2,  4,  6,  8, 10, 12, 14, 16, 18, 20, 22, 24, 26, 28, 30, 32,\n",
       "       34, 36, 38])"
      ]
     },
     "execution_count": 32,
     "metadata": {},
     "output_type": "execute_result"
    }
   ],
   "source": [
    "arr = np.arange(0,40,2)\n",
    "arr"
   ]
  },
  {
   "cell_type": "code",
   "execution_count": 33,
   "metadata": {},
   "outputs": [
    {
     "data": {
      "text/plain": [
       "array([False, False, False, False, False, False, False, False, False,\n",
       "       False, False, False, False,  True,  True,  True,  True,  True,\n",
       "        True,  True], dtype=bool)"
      ]
     },
     "execution_count": 33,
     "metadata": {},
     "output_type": "execute_result"
    }
   ],
   "source": [
    "arr>25"
   ]
  },
  {
   "cell_type": "code",
   "execution_count": 34,
   "metadata": {},
   "outputs": [
    {
     "data": {
      "text/plain": [
       "array([26, 28, 30, 32, 34, 36, 38])"
      ]
     },
     "execution_count": 34,
     "metadata": {},
     "output_type": "execute_result"
    }
   ],
   "source": [
    "arr[arr>25]"
   ]
  },
  {
   "cell_type": "markdown",
   "metadata": {},
   "source": [
    "### Fancy Indexing"
   ]
  },
  {
   "cell_type": "code",
   "execution_count": 35,
   "metadata": {},
   "outputs": [
    {
     "data": {
      "text/plain": [
       "array([[50, 76, 82, 95],\n",
       "       [66, 11, 75, 90],\n",
       "       [41, 95, 45, 69],\n",
       "       [17,  2, 80, 70]])"
      ]
     },
     "execution_count": 35,
     "metadata": {},
     "output_type": "execute_result"
    }
   ],
   "source": [
    "arr = np.random.randint(1,100,(4,4))\n",
    "arr"
   ]
  },
  {
   "cell_type": "code",
   "execution_count": 36,
   "metadata": {},
   "outputs": [
    {
     "data": {
      "text/plain": [
       "array([82, 90, 95])"
      ]
     },
     "execution_count": 36,
     "metadata": {},
     "output_type": "execute_result"
    }
   ],
   "source": [
    "arr[[0,1,2],[2,3,1]]"
   ]
  },
  {
   "cell_type": "markdown",
   "metadata": {},
   "source": [
    "### Changing Array Shapes"
   ]
  },
  {
   "cell_type": "code",
   "execution_count": 50,
   "metadata": {},
   "outputs": [
    {
     "data": {
      "text/plain": [
       "(array([[13,  8, 14,  3],\n",
       "        [ 9,  8, 18, 14],\n",
       "        [13,  4,  4,  2],\n",
       "        [ 9, 15,  5,  5]]), array([[14, 16,  1, 16],\n",
       "        [12, 17,  2, 12],\n",
       "        [14, 11,  3, 13],\n",
       "        [17, 10, 14,  5]]))"
      ]
     },
     "execution_count": 50,
     "metadata": {},
     "output_type": "execute_result"
    }
   ],
   "source": [
    "A = np.random.randint(1,20,(4,4))\n",
    "B = np.random.randint(1,20,(4,4))\n",
    "A,B"
   ]
  },
  {
   "cell_type": "code",
   "execution_count": 38,
   "metadata": {},
   "outputs": [
    {
     "data": {
      "text/plain": [
       "array([[18, 16,  2, 18, 19, 18, 16,  1],\n",
       "       [18,  9, 17, 16,  5, 17, 15, 10]])"
      ]
     },
     "execution_count": 38,
     "metadata": {},
     "output_type": "execute_result"
    }
   ],
   "source": [
    "A.reshape((2,8)) #will not change orig array"
   ]
  },
  {
   "cell_type": "code",
   "execution_count": 39,
   "metadata": {},
   "outputs": [
    {
     "data": {
      "text/plain": [
       "array([[18, 16,  2, 18],\n",
       "       [19, 18, 16,  1],\n",
       "       [18,  9, 17, 16],\n",
       "       [ 5, 17, 15, 10]])"
      ]
     },
     "execution_count": 39,
     "metadata": {},
     "output_type": "execute_result"
    }
   ],
   "source": [
    "A"
   ]
  },
  {
   "cell_type": "code",
   "execution_count": 40,
   "metadata": {
    "collapsed": true
   },
   "outputs": [],
   "source": [
    "C = A  #just an alias"
   ]
  },
  {
   "cell_type": "code",
   "execution_count": 41,
   "metadata": {},
   "outputs": [
    {
     "data": {
      "text/plain": [
       "18"
      ]
     },
     "execution_count": 41,
     "metadata": {},
     "output_type": "execute_result"
    }
   ],
   "source": [
    "C[1,1]"
   ]
  },
  {
   "cell_type": "code",
   "execution_count": 42,
   "metadata": {},
   "outputs": [
    {
     "data": {
      "text/plain": [
       "array([[ 18,  16,   2,  18],\n",
       "       [ 19, 100,  16,   1],\n",
       "       [ 18,   9,  17,  16],\n",
       "       [  5,  17,  15,  10]])"
      ]
     },
     "execution_count": 42,
     "metadata": {},
     "output_type": "execute_result"
    }
   ],
   "source": [
    "C[1,1] = 100\n",
    "A"
   ]
  },
  {
   "cell_type": "code",
   "execution_count": 43,
   "metadata": {
    "collapsed": true
   },
   "outputs": [],
   "source": [
    "C = A.copy() #make a copy of existing array"
   ]
  },
  {
   "cell_type": "code",
   "execution_count": 44,
   "metadata": {},
   "outputs": [
    {
     "data": {
      "text/plain": [
       "array([[ 18,  16,   2,  18],\n",
       "       [ 19, 100,  16,   1],\n",
       "       [ 18,   9,  17,  16],\n",
       "       [  5,  17,  15,  10]])"
      ]
     },
     "execution_count": 44,
     "metadata": {},
     "output_type": "execute_result"
    }
   ],
   "source": [
    "C[1,1] = 2\n",
    "A"
   ]
  },
  {
   "cell_type": "code",
   "execution_count": 45,
   "metadata": {},
   "outputs": [
    {
     "data": {
      "text/plain": [
       "array([[18, 16,  2, 18],\n",
       "       [19,  2, 16,  1],\n",
       "       [18,  9, 17, 16],\n",
       "       [ 5, 17, 15, 10]])"
      ]
     },
     "execution_count": 45,
     "metadata": {},
     "output_type": "execute_result"
    }
   ],
   "source": [
    "C"
   ]
  },
  {
   "cell_type": "code",
   "execution_count": 46,
   "metadata": {},
   "outputs": [
    {
     "data": {
      "text/plain": [
       "array([[ 18,  16,   2,  18,  19, 100,  16,   1],\n",
       "       [ 18,   9,  17,  16,   5,  17,  15,  10]])"
      ]
     },
     "execution_count": 46,
     "metadata": {},
     "output_type": "execute_result"
    }
   ],
   "source": [
    "A.resize(2,8) #will change orig array\n",
    "A"
   ]
  },
  {
   "cell_type": "code",
   "execution_count": 48,
   "metadata": {},
   "outputs": [
    {
     "data": {
      "text/plain": [
       "array([ 18,  16,   2,  18,  19, 100,  16,   1,  18,   9,  17,  16,   5,\n",
       "        17,  15,  10])"
      ]
     },
     "execution_count": 48,
     "metadata": {},
     "output_type": "execute_result"
    }
   ],
   "source": [
    "A.ravel() #gives flatened array"
   ]
  },
  {
   "cell_type": "code",
   "execution_count": 49,
   "metadata": {},
   "outputs": [
    {
     "data": {
      "text/plain": [
       "array([ 18,  16,   2,  18,  19, 100,  16,   1,  18,   9,  17,  16,   5,\n",
       "        17,  15,  10])"
      ]
     },
     "execution_count": 49,
     "metadata": {},
     "output_type": "execute_result"
    }
   ],
   "source": [
    "A.flatten()"
   ]
  },
  {
   "cell_type": "code",
   "execution_count": 51,
   "metadata": {},
   "outputs": [
    {
     "data": {
      "text/plain": [
       "array([[13,  8, 14,  3, 14, 16,  1, 16],\n",
       "       [ 9,  8, 18, 14, 12, 17,  2, 12],\n",
       "       [13,  4,  4,  2, 14, 11,  3, 13],\n",
       "       [ 9, 15,  5,  5, 17, 10, 14,  5]])"
      ]
     },
     "execution_count": 51,
     "metadata": {},
     "output_type": "execute_result"
    }
   ],
   "source": [
    "np.hstack((A,B)) #side by side stack"
   ]
  },
  {
   "cell_type": "code",
   "execution_count": 52,
   "metadata": {},
   "outputs": [
    {
     "data": {
      "text/plain": [
       "array([[13,  8, 14,  3],\n",
       "       [ 9,  8, 18, 14],\n",
       "       [13,  4,  4,  2],\n",
       "       [ 9, 15,  5,  5],\n",
       "       [14, 16,  1, 16],\n",
       "       [12, 17,  2, 12],\n",
       "       [14, 11,  3, 13],\n",
       "       [17, 10, 14,  5]])"
      ]
     },
     "execution_count": 52,
     "metadata": {},
     "output_type": "execute_result"
    }
   ],
   "source": [
    "np.vstack((A,B)) #one below the other stack"
   ]
  },
  {
   "cell_type": "code",
   "execution_count": 53,
   "metadata": {},
   "outputs": [
    {
     "data": {
      "text/plain": [
       "array([[[13, 14],\n",
       "        [ 8, 16],\n",
       "        [14,  1],\n",
       "        [ 3, 16]],\n",
       "\n",
       "       [[ 9, 12],\n",
       "        [ 8, 17],\n",
       "        [18,  2],\n",
       "        [14, 12]],\n",
       "\n",
       "       [[13, 14],\n",
       "        [ 4, 11],\n",
       "        [ 4,  3],\n",
       "        [ 2, 13]],\n",
       "\n",
       "       [[ 9, 17],\n",
       "        [15, 10],\n",
       "        [ 5, 14],\n",
       "        [ 5,  5]]])"
      ]
     },
     "execution_count": 53,
     "metadata": {},
     "output_type": "execute_result"
    }
   ],
   "source": [
    "np.dstack((A,B)) #depth stack"
   ]
  },
  {
   "cell_type": "markdown",
   "metadata": {},
   "source": [
    "### Vectorization and Broadcasting"
   ]
  },
  {
   "cell_type": "code",
   "execution_count": 54,
   "metadata": {},
   "outputs": [
    {
     "data": {
      "text/plain": [
       "(array([[6, 8, 7, 9],\n",
       "        [5, 5, 9, 1],\n",
       "        [1, 3, 5, 3],\n",
       "        [8, 9, 7, 9]]), array([[7, 6, 8, 5]]))"
      ]
     },
     "execution_count": 54,
     "metadata": {},
     "output_type": "execute_result"
    }
   ],
   "source": [
    "X = np.random.randint(1,10,(4,4))\n",
    "Y = np.random.randint(1,10,(1,4))\n",
    "X,Y"
   ]
  },
  {
   "cell_type": "code",
   "execution_count": 58,
   "metadata": {},
   "outputs": [
    {
     "name": "stdout",
     "output_type": "stream",
     "text": [
      "(1, 4)\n"
     ]
    }
   ],
   "source": [
    "B = np.array([1,2,3,4]).reshape((1,4))\n",
    "B\n",
    "print(B.shape)"
   ]
  },
  {
   "cell_type": "code",
   "execution_count": 59,
   "metadata": {},
   "outputs": [
    {
     "data": {
      "text/plain": [
       "array([[13, 14, 15, 14],\n",
       "       [12, 11, 17,  6],\n",
       "       [ 8,  9, 13,  8],\n",
       "       [15, 15, 15, 14]])"
      ]
     },
     "execution_count": 59,
     "metadata": {},
     "output_type": "execute_result"
    }
   ],
   "source": [
    "X+Y #makes 4 copies of Y array"
   ]
  },
  {
   "cell_type": "markdown",
   "metadata": {},
   "source": [
    "### Element wise functions"
   ]
  },
  {
   "cell_type": "code",
   "execution_count": 61,
   "metadata": {},
   "outputs": [
    {
     "data": {
      "text/plain": [
       "array([-0.54402111,  0.91294525, -0.98803162,  0.74511316])"
      ]
     },
     "execution_count": 61,
     "metadata": {},
     "output_type": "execute_result"
    }
   ],
   "source": [
    "X = np.array([10,20,30,40])\n",
    "np.sin(X)"
   ]
  },
  {
   "cell_type": "code",
   "execution_count": 65,
   "metadata": {},
   "outputs": [
    {
     "data": {
      "text/plain": [
       "array([[53, 32,  5, 55],\n",
       "       [63, 53, 43, 50],\n",
       "       [88, 36, 39, 43],\n",
       "       [30, 42, 38, 98]])"
      ]
     },
     "execution_count": 65,
     "metadata": {},
     "output_type": "execute_result"
    }
   ],
   "source": [
    "X = np.random.randint(1,100,(4,4))\n",
    "X"
   ]
  },
  {
   "cell_type": "code",
   "execution_count": 66,
   "metadata": {},
   "outputs": [
    {
     "data": {
      "text/plain": [
       "array([[ 7.28010989,  5.65685425,  2.23606798,  7.41619849],\n",
       "       [ 7.93725393,  7.28010989,  6.55743852,  7.07106781],\n",
       "       [ 9.38083152,  6.        ,  6.244998  ,  6.55743852],\n",
       "       [ 5.47722558,  6.4807407 ,  6.164414  ,  9.89949494]])"
      ]
     },
     "execution_count": 66,
     "metadata": {},
     "output_type": "execute_result"
    }
   ],
   "source": [
    "np.sqrt(X)"
   ]
  },
  {
   "cell_type": "code",
   "execution_count": 67,
   "metadata": {},
   "outputs": [
    {
     "data": {
      "text/plain": [
       "4"
      ]
     },
     "execution_count": 67,
     "metadata": {},
     "output_type": "execute_result"
    }
   ],
   "source": [
    "X = np.array([3,5,1,6,7,3])\n",
    "np.argmax(X)"
   ]
  },
  {
   "cell_type": "code",
   "execution_count": 68,
   "metadata": {},
   "outputs": [
    {
     "data": {
      "text/plain": [
       "array([2, 0, 5, 1, 3, 4], dtype=int64)"
      ]
     },
     "execution_count": 68,
     "metadata": {},
     "output_type": "execute_result"
    }
   ],
   "source": [
    "X = np.array([3,5,1,6,7,3])\n",
    "np.argsort(X)"
   ]
  },
  {
   "cell_type": "markdown",
   "metadata": {},
   "source": [
    "### Aggregation Functions"
   ]
  },
  {
   "cell_type": "code",
   "execution_count": 69,
   "metadata": {},
   "outputs": [
    {
     "data": {
      "text/plain": [
       "array([3, 5, 1, 6, 7, 3])"
      ]
     },
     "execution_count": 69,
     "metadata": {},
     "output_type": "execute_result"
    }
   ],
   "source": [
    "X"
   ]
  },
  {
   "cell_type": "code",
   "execution_count": 70,
   "metadata": {},
   "outputs": [
    {
     "data": {
      "text/plain": [
       "7"
      ]
     },
     "execution_count": 70,
     "metadata": {},
     "output_type": "execute_result"
    }
   ],
   "source": [
    "X.max()"
   ]
  },
  {
   "cell_type": "code",
   "execution_count": 71,
   "metadata": {},
   "outputs": [
    {
     "data": {
      "text/plain": [
       "array([97, 70, 37, 92])"
      ]
     },
     "execution_count": 71,
     "metadata": {},
     "output_type": "execute_result"
    }
   ],
   "source": [
    "X = np.random.randint(1,100,(4,4))\n",
    "X.max(axis=0)"
   ]
  },
  {
   "cell_type": "markdown",
   "metadata": {},
   "source": [
    "### Question 1"
   ]
  },
  {
   "cell_type": "code",
   "execution_count": 80,
   "metadata": {},
   "outputs": [
    {
     "name": "stdout",
     "output_type": "stream",
     "text": [
      "1000 loops, best of 3: 389 µs per loop\n"
     ]
    }
   ],
   "source": [
    "%%timeit\n",
    "# using numpy\n",
    "nums = np.arange(1,100001)\n",
    "mseven = nums[nums%7 == 0]\n",
    "summ = np.sum(mseven)\n",
    "summ"
   ]
  },
  {
   "cell_type": "code",
   "execution_count": 81,
   "metadata": {},
   "outputs": [
    {
     "name": "stdout",
     "output_type": "stream",
     "text": [
      "100 loops, best of 3: 4.44 ms per loop\n"
     ]
    }
   ],
   "source": [
    "%%timeit\n",
    "#using list\n",
    "numl = range(1,100001)\n",
    "sevenm = [num for num in numl if num%7 == 0]\n",
    "summ = sum(sevenm)\n",
    "summ"
   ]
  },
  {
   "cell_type": "markdown",
   "metadata": {},
   "source": [
    "### Question 2"
   ]
  },
  {
   "cell_type": "code",
   "execution_count": 83,
   "metadata": {},
   "outputs": [
    {
     "data": {
      "text/plain": [
       "0"
      ]
     },
     "execution_count": 83,
     "metadata": {},
     "output_type": "execute_result"
    }
   ],
   "source": [
    "x = np.arange(1,101)\n",
    "x1 = 100*x**2\n",
    "x2 = x**3\n",
    "ind = np.argmax(x1>x2)\n",
    "ind"
   ]
  },
  {
   "cell_type": "markdown",
   "metadata": {},
   "source": [
    "### Question 3"
   ]
  },
  {
   "cell_type": "code",
   "execution_count": 86,
   "metadata": {},
   "outputs": [
    {
     "data": {
      "text/plain": [
       "array([[ 60,  59, 242,  70, 490],\n",
       "       [794, 827, 880, 361, 979],\n",
       "       [ 53, 616, 878, 771, 545],\n",
       "       [559,  18, 303, 954, 472],\n",
       "       [407, 206,  65, 432, 663]])"
      ]
     },
     "execution_count": 86,
     "metadata": {},
     "output_type": "execute_result"
    }
   ],
   "source": [
    "arr = np.random.randint(1,1000,(5,5))\n",
    "arr"
   ]
  },
  {
   "cell_type": "code",
   "execution_count": 97,
   "metadata": {},
   "outputs": [
    {
     "data": {
      "text/plain": [
       "880"
      ]
     },
     "execution_count": 97,
     "metadata": {},
     "output_type": "execute_result"
    }
   ],
   "source": [
    "sub = np.diag(arr[:],k=1)\n",
    "sub\n",
    "element = np.max(sub)\n",
    "element"
   ]
  },
  {
   "cell_type": "markdown",
   "metadata": {},
   "source": [
    "### Question 5"
   ]
  },
  {
   "cell_type": "code",
   "execution_count": 106,
   "metadata": {},
   "outputs": [
    {
     "data": {
      "text/plain": [
       "array([[8, 7, 6, 6, 1, 6, 5, 5, 1, 4],\n",
       "       [3, 8, 3, 7, 5, 7, 5, 8, 9, 7],\n",
       "       [8, 4, 2, 8, 6, 6, 5, 7, 3, 4],\n",
       "       [5, 6, 2, 2, 2, 5, 1, 8, 3, 4],\n",
       "       [4, 1, 1, 5, 3, 8, 7, 7, 7, 9],\n",
       "       [9, 4, 5, 5, 5, 1, 5, 2, 3, 2],\n",
       "       [5, 7, 4, 5, 9, 9, 2, 6, 9, 5],\n",
       "       [4, 6, 3, 2, 7, 3, 6, 9, 1, 8],\n",
       "       [4, 2, 5, 2, 1, 9, 2, 2, 9, 5],\n",
       "       [5, 3, 4, 1, 2, 4, 2, 3, 1, 2]])"
      ]
     },
     "execution_count": 106,
     "metadata": {},
     "output_type": "execute_result"
    }
   ],
   "source": [
    "X = np.random.randint(1,10,(10,10))\n",
    "X"
   ]
  },
  {
   "cell_type": "code",
   "execution_count": 107,
   "metadata": {},
   "outputs": [
    {
     "data": {
      "text/plain": [
       "array([[ 5.19694045,  4.84473638,  3.66666667,  4.1161358 , -0.58515158,\n",
       "         3.6631134 ,  2.9480433 ,  2.6749215 , -0.38443731,  1.76393202],\n",
       "       [ 0.19694045,  5.84473638,  0.66666667,  5.1161358 ,  3.41484842,\n",
       "         4.6631134 ,  2.9480433 ,  5.6749215 ,  7.61556269,  4.76393202],\n",
       "       [ 5.19694045,  1.84473638, -0.33333333,  6.1161358 ,  4.41484842,\n",
       "         3.6631134 ,  2.9480433 ,  4.6749215 ,  1.61556269,  1.76393202],\n",
       "       [ 2.19694045,  3.84473638, -0.33333333,  0.1161358 ,  0.41484842,\n",
       "         2.6631134 , -1.0519567 ,  5.6749215 ,  1.61556269,  1.76393202],\n",
       "       [ 1.19694045, -1.15526362, -1.33333333,  3.1161358 ,  1.41484842,\n",
       "         5.6631134 ,  4.9480433 ,  4.6749215 ,  5.61556269,  6.76393202],\n",
       "       [ 6.19694045,  1.84473638,  2.66666667,  3.1161358 ,  3.41484842,\n",
       "        -1.3368866 ,  2.9480433 , -0.3250785 ,  1.61556269, -0.23606798],\n",
       "       [ 2.19694045,  4.84473638,  1.66666667,  3.1161358 ,  7.41484842,\n",
       "         6.6631134 , -0.0519567 ,  3.6749215 ,  7.61556269,  2.76393202],\n",
       "       [ 1.19694045,  3.84473638,  0.66666667,  0.1161358 ,  5.41484842,\n",
       "         0.6631134 ,  3.9480433 ,  6.6749215 , -0.38443731,  5.76393202],\n",
       "       [ 1.19694045, -0.15526362,  2.66666667,  0.1161358 , -0.58515158,\n",
       "         6.6631134 , -0.0519567 , -0.3250785 ,  7.61556269,  2.76393202],\n",
       "       [ 2.19694045,  0.84473638,  1.66666667, -0.8838642 ,  0.41484842,\n",
       "         1.6631134 , -0.0519567 ,  0.6749215 , -0.38443731, -0.23606798]])"
      ]
     },
     "execution_count": 107,
     "metadata": {},
     "output_type": "execute_result"
    }
   ],
   "source": [
    "X-X.mean(axis=0) / X.std(axis=0)"
   ]
  },
  {
   "cell_type": "code",
   "execution_count": null,
   "metadata": {
    "collapsed": true
   },
   "outputs": [],
   "source": []
  }
 ],
 "metadata": {
  "kernelspec": {
   "display_name": "Python 3",
   "language": "python",
   "name": "python3"
  },
  "language_info": {
   "codemirror_mode": {
    "name": "ipython",
    "version": 3
   },
   "file_extension": ".py",
   "mimetype": "text/x-python",
   "name": "python",
   "nbconvert_exporter": "python",
   "pygments_lexer": "ipython3",
   "version": "3.11.0"
  }
 },
 "nbformat": 4,
 "nbformat_minor": 2
}
